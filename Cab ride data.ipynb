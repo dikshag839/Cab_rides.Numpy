{
 "cells": [
  {
   "cell_type": "code",
   "execution_count": 1,
   "id": "cfa94f6e",
   "metadata": {},
   "outputs": [],
   "source": [
    "import numpy as np"
   ]
  },
  {
   "cell_type": "code",
   "execution_count": 2,
   "id": "b3c948b7",
   "metadata": {},
   "outputs": [],
   "source": [
    "taxi = np.genfromtxt('nyc_taxis.csv', delimiter = ',', skip_header = True)"
   ]
  },
  {
   "cell_type": "markdown",
   "id": "a7056415",
   "metadata": {},
   "source": [
    "# What is the mean speed of the cab rides"
   ]
  },
  {
   "cell_type": "raw",
   "id": "597e6b3c",
   "metadata": {},
   "source": [
    "In the CSV file in 7th column we can see the distance and in the 8th column we can see the time in seconds so we have to find out the speed by using the formula also we have to divide the time by 3600 because it is in seconds."
   ]
  },
  {
   "cell_type": "code",
   "execution_count": 3,
   "id": "50c67106",
   "metadata": {},
   "outputs": [],
   "source": [
    "speed = taxi[:, 7]/ (taxi[:, 8]/3600)"
   ]
  },
  {
   "cell_type": "code",
   "execution_count": 4,
   "id": "0dcdc3c2",
   "metadata": {},
   "outputs": [
    {
     "name": "stdout",
     "output_type": "stream",
     "text": [
      "32.24258580925573\n"
     ]
    }
   ],
   "source": [
    "speed_mean = speed.mean() \n",
    "print (speed_mean)"
   ]
  },
  {
   "cell_type": "markdown",
   "id": "f12f7cab",
   "metadata": {},
   "source": [
    "# Calculate the number of rides taken in the February month. "
   ]
  },
  {
   "cell_type": "markdown",
   "id": "51afaac8",
   "metadata": {},
   "source": [
    "Febraury is given by the 2 month column."
   ]
  },
  {
   "cell_type": "code",
   "execution_count": 9,
   "id": "0cccae83",
   "metadata": {},
   "outputs": [
    {
     "name": "stdout",
     "output_type": "stream",
     "text": [
      "13333\n"
     ]
    }
   ],
   "source": [
    "rides_feb = taxi[taxi[:, 1] == 2, 1]\n",
    "print(rides_feb.shape[0])"
   ]
  },
  {
   "cell_type": "markdown",
   "id": "0f22e359",
   "metadata": {},
   "source": [
    "# Number of rides where tip more than $50"
   ]
  },
  {
   "cell_type": "code",
   "execution_count": 10,
   "id": "928e951c",
   "metadata": {},
   "outputs": [
    {
     "name": "stdout",
     "output_type": "stream",
     "text": [
      "16\n"
     ]
    }
   ],
   "source": [
    "tip_count = taxi[taxi[:, -3] > 50, -3]\n",
    "print(tip_count.shape[0])"
   ]
  },
  {
   "cell_type": "markdown",
   "id": "70979f2c",
   "metadata": {},
   "source": [
    "# Number of rides where drop was JFK airport."
   ]
  },
  {
   "cell_type": "markdown",
   "id": "024619a1",
   "metadata": {},
   "source": [
    "Drop off location code for JFK airport is 2"
   ]
  },
  {
   "cell_type": "code",
   "execution_count": 12,
   "id": "53482093",
   "metadata": {},
   "outputs": [
    {
     "name": "stdout",
     "output_type": "stream",
     "text": [
      "11832\n"
     ]
    }
   ],
   "source": [
    "jfk_drop = taxi[taxi[:, 6] == 2, 6]\n",
    "print(jfk_drop.shape[0])"
   ]
  },
  {
   "cell_type": "code",
   "execution_count": null,
   "id": "785669fc",
   "metadata": {},
   "outputs": [],
   "source": []
  }
 ],
 "metadata": {
  "kernelspec": {
   "display_name": "Python 3 (ipykernel)",
   "language": "python",
   "name": "python3"
  },
  "language_info": {
   "codemirror_mode": {
    "name": "ipython",
    "version": 3
   },
   "file_extension": ".py",
   "mimetype": "text/x-python",
   "name": "python",
   "nbconvert_exporter": "python",
   "pygments_lexer": "ipython3",
   "version": "3.11.4"
  }
 },
 "nbformat": 4,
 "nbformat_minor": 5
}
